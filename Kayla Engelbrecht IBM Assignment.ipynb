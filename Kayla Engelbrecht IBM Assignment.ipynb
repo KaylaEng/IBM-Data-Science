{
  "metadata": {
    "language_info": {
      "codemirror_mode": {
        "name": "python",
        "version": 3
      },
      "file_extension": ".py",
      "mimetype": "text/x-python",
      "name": "python",
      "nbconvert_exporter": "python",
      "pygments_lexer": "ipython3",
      "version": "3.8"
    },
    "kernelspec": {
      "name": "python",
      "display_name": "Pyolite",
      "language": "python"
    }
  },
  "nbformat_minor": 4,
  "nbformat": 4,
  "cells": [
    {
      "cell_type": "markdown",
      "source": "# My Jupyter Notebook on IBM Watson Studio",
      "metadata": {}
    },
    {
      "cell_type": "markdown",
      "source": "**Kayla Engelbrecht**\n\nReal World Evidence Specialist",
      "metadata": {}
    },
    {
      "cell_type": "markdown",
      "source": "*I am interested in data science because I think that big data is the key to solving problems across so many industries. In particular I am interested in it's applications to healthcare in order to help improve healthcare globally and advance patient access to life changing treatments.*",
      "metadata": {}
    },
    {
      "cell_type": "markdown",
      "source": "### My code in cell 5 is going to be a simple addition of 1 ",
      "metadata": {}
    },
    {
      "cell_type": "code",
      "source": "1 + 1",
      "metadata": {
        "trusted": true
      },
      "execution_count": 3,
      "outputs": [
        {
          "execution_count": 3,
          "output_type": "execute_result",
          "data": {
            "text/plain": "2"
          },
          "metadata": {}
        }
      ]
    },
    {
      "cell_type": "markdown",
      "source": "1. Using a numbered list\n2. Using a ~~strikethrough~~\n3. Using the horizontal rule\n***\n4. Using a blockquotes\n> I am using this blockqoute so that my very long paragraph of text can wrap nicely for the viewer to see. I h",
      "metadata": {}
    },
    {
      "cell_type": "code",
      "source": "",
      "metadata": {},
      "execution_count": null,
      "outputs": []
    }
  ]
}